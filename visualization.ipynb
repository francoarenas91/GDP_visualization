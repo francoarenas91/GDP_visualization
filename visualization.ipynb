{
 "cells": [
  {
   "cell_type": "code",
   "execution_count": 1,
   "metadata": {},
   "outputs": [],
   "source": [
    "import pandas as pd\n",
    "import plotly.graph_objects as go\n",
    "\n"
   ]
  },
  {
   "cell_type": "code",
   "execution_count": 104,
   "metadata": {},
   "outputs": [],
   "source": [
    "nodes = pd.read_excel(\"./1.data/nodes_dict.xlsx\")\n",
    "links = pd.read_csv(\"./1.data/links.csv\",index_col=False)\n"
   ]
  },
  {
   "cell_type": "code",
   "execution_count": 78,
   "metadata": {},
   "outputs": [
    {
     "data": {
      "text/html": [
       "<div>\n",
       "<style scoped>\n",
       "    .dataframe tbody tr th:only-of-type {\n",
       "        vertical-align: middle;\n",
       "    }\n",
       "\n",
       "    .dataframe tbody tr th {\n",
       "        vertical-align: top;\n",
       "    }\n",
       "\n",
       "    .dataframe thead th {\n",
       "        text-align: right;\n",
       "    }\n",
       "</style>\n",
       "<table border=\"1\" class=\"dataframe\">\n",
       "  <thead>\n",
       "    <tr style=\"text-align: right;\">\n",
       "      <th></th>\n",
       "      <th>target</th>\n",
       "      <th>values</th>\n",
       "      <th>color</th>\n",
       "      <th>source</th>\n",
       "    </tr>\n",
       "  </thead>\n",
       "  <tbody>\n",
       "    <tr>\n",
       "      <th>0</th>\n",
       "      <td>41</td>\n",
       "      <td>1346377</td>\n",
       "      <td>a</td>\n",
       "      <td>0</td>\n",
       "    </tr>\n",
       "    <tr>\n",
       "      <th>1</th>\n",
       "      <td>43</td>\n",
       "      <td>80970</td>\n",
       "      <td>NaN</td>\n",
       "      <td>1</td>\n",
       "    </tr>\n",
       "    <tr>\n",
       "      <th>2</th>\n",
       "      <td>44</td>\n",
       "      <td>571410</td>\n",
       "      <td>a</td>\n",
       "      <td>2</td>\n",
       "    </tr>\n",
       "    <tr>\n",
       "      <th>3</th>\n",
       "      <td>45</td>\n",
       "      <td>1352772</td>\n",
       "      <td>NaN</td>\n",
       "      <td>3</td>\n",
       "    </tr>\n",
       "    <tr>\n",
       "      <th>4</th>\n",
       "      <td>46</td>\n",
       "      <td>1338303</td>\n",
       "      <td>a</td>\n",
       "      <td>4</td>\n",
       "    </tr>\n",
       "    <tr>\n",
       "      <th>...</th>\n",
       "      <td>...</td>\n",
       "      <td>...</td>\n",
       "      <td>...</td>\n",
       "      <td>...</td>\n",
       "    </tr>\n",
       "    <tr>\n",
       "      <th>56</th>\n",
       "      <td>34</td>\n",
       "      <td>831</td>\n",
       "      <td>NaN</td>\n",
       "      <td>42</td>\n",
       "    </tr>\n",
       "    <tr>\n",
       "      <th>57</th>\n",
       "      <td>43</td>\n",
       "      <td>2880</td>\n",
       "      <td>NaN</td>\n",
       "      <td>36</td>\n",
       "    </tr>\n",
       "    <tr>\n",
       "      <th>58</th>\n",
       "      <td>37</td>\n",
       "      <td>1040844</td>\n",
       "      <td>a</td>\n",
       "      <td>46</td>\n",
       "    </tr>\n",
       "    <tr>\n",
       "      <th>59</th>\n",
       "      <td>38</td>\n",
       "      <td>226116</td>\n",
       "      <td>a</td>\n",
       "      <td>5</td>\n",
       "    </tr>\n",
       "    <tr>\n",
       "      <th>60</th>\n",
       "      <td>39</td>\n",
       "      <td>289220</td>\n",
       "      <td>a</td>\n",
       "      <td>43</td>\n",
       "    </tr>\n",
       "  </tbody>\n",
       "</table>\n",
       "<p>61 rows × 4 columns</p>\n",
       "</div>"
      ],
      "text/plain": [
       "    target   values color  source\n",
       "0       41  1346377     a       0\n",
       "1       43    80970   NaN       1\n",
       "2       44   571410     a       2\n",
       "3       45  1352772   NaN       3\n",
       "4       46  1338303     a       4\n",
       "..     ...      ...   ...     ...\n",
       "56      34      831   NaN      42\n",
       "57      43     2880   NaN      36\n",
       "58      37  1040844     a      46\n",
       "59      38   226116     a       5\n",
       "60      39   289220     a      43\n",
       "\n",
       "[61 rows x 4 columns]"
      ]
     },
     "execution_count": 78,
     "metadata": {},
     "output_type": "execute_result"
    }
   ],
   "source": [
    "links"
   ]
  },
  {
   "cell_type": "code",
   "execution_count": 105,
   "metadata": {},
   "outputs": [],
   "source": [
    "links=links.rename(columns={'values': 'value'}).loc[:,['source','target','value']]\n"
   ]
  },
  {
   "cell_type": "code",
   "execution_count": 106,
   "metadata": {},
   "outputs": [
    {
     "data": {
      "text/plain": [
       "{'source': [0,\n",
       "  1,\n",
       "  2,\n",
       "  3,\n",
       "  4,\n",
       "  6,\n",
       "  9,\n",
       "  10,\n",
       "  11,\n",
       "  12,\n",
       "  13,\n",
       "  14,\n",
       "  15,\n",
       "  16,\n",
       "  17,\n",
       "  19,\n",
       "  20,\n",
       "  22,\n",
       "  23,\n",
       "  25,\n",
       "  26,\n",
       "  28,\n",
       "  29,\n",
       "  31,\n",
       "  46,\n",
       "  33,\n",
       "  35,\n",
       "  37,\n",
       "  38,\n",
       "  40,\n",
       "  42,\n",
       "  41,\n",
       "  44,\n",
       "  45,\n",
       "  46,\n",
       "  5,\n",
       "  43,\n",
       "  39,\n",
       "  39,\n",
       "  39,\n",
       "  40,\n",
       "  41,\n",
       "  41,\n",
       "  44,\n",
       "  44,\n",
       "  44,\n",
       "  45,\n",
       "  45,\n",
       "  45,\n",
       "  45,\n",
       "  45,\n",
       "  45,\n",
       "  45,\n",
       "  45,\n",
       "  32,\n",
       "  42,\n",
       "  42,\n",
       "  36,\n",
       "  46,\n",
       "  5,\n",
       "  43],\n",
       " 'target': [41,\n",
       "  43,\n",
       "  44,\n",
       "  45,\n",
       "  46,\n",
       "  42,\n",
       "  40,\n",
       "  40,\n",
       "  40,\n",
       "  40,\n",
       "  44,\n",
       "  44,\n",
       "  41,\n",
       "  41,\n",
       "  44,\n",
       "  44,\n",
       "  45,\n",
       "  45,\n",
       "  45,\n",
       "  45,\n",
       "  45,\n",
       "  45,\n",
       "  45,\n",
       "  45,\n",
       "  32,\n",
       "  42,\n",
       "  42,\n",
       "  40,\n",
       "  43,\n",
       "  0,\n",
       "  1,\n",
       "  2,\n",
       "  3,\n",
       "  4,\n",
       "  5,\n",
       "  6,\n",
       "  7,\n",
       "  9,\n",
       "  10,\n",
       "  11,\n",
       "  8,\n",
       "  13,\n",
       "  14,\n",
       "  15,\n",
       "  17,\n",
       "  18,\n",
       "  20,\n",
       "  21,\n",
       "  23,\n",
       "  24,\n",
       "  26,\n",
       "  27,\n",
       "  29,\n",
       "  30,\n",
       "  46,\n",
       "  33,\n",
       "  34,\n",
       "  43,\n",
       "  37,\n",
       "  38,\n",
       "  39],\n",
       " 'value': [1346377,\n",
       "  80970,\n",
       "  571410,\n",
       "  1352772,\n",
       "  1338303,\n",
       "  71343,\n",
       "  270310,\n",
       "  16353,\n",
       "  2557,\n",
       "  550319,\n",
       "  646723,\n",
       "  160706,\n",
       "  26965,\n",
       "  5742,\n",
       "  137220,\n",
       "  62874,\n",
       "  162061,\n",
       "  3581,\n",
       "  191866,\n",
       "  1297,\n",
       "  242701,\n",
       "  578,\n",
       "  126318,\n",
       "  32628,\n",
       "  2176,\n",
       "  29996,\n",
       "  10458,\n",
       "  1040844,\n",
       "  226116,\n",
       "  1346377,\n",
       "  80970,\n",
       "  571410,\n",
       "  1352772,\n",
       "  1338303,\n",
       "  297459,\n",
       "  71343,\n",
       "  20746,\n",
       "  270310,\n",
       "  16353,\n",
       "  2557,\n",
       "  534006,\n",
       "  643047,\n",
       "  164627,\n",
       "  26965,\n",
       "  137220,\n",
       "  63772,\n",
       "  162061,\n",
       "  2697,\n",
       "  191866,\n",
       "  96,\n",
       "  242701,\n",
       "  3896,\n",
       "  157722,\n",
       "  16926,\n",
       "  2176,\n",
       "  10742,\n",
       "  831,\n",
       "  2880,\n",
       "  1040844,\n",
       "  226116,\n",
       "  289220]}"
      ]
     },
     "execution_count": 106,
     "metadata": {},
     "output_type": "execute_result"
    }
   ],
   "source": [
    "link_dict = links.to_dict('list')\n",
    "\n",
    "link_dict"
   ]
  },
  {
   "cell_type": "code",
   "execution_count": 112,
   "metadata": {},
   "outputs": [
    {
     "data": {
      "application/vnd.plotly.v1+json": {
       "config": {
        "plotlyServerURL": "https://plot.ly"
       },
       "data": [
        {
         "link": {
          "source": [
           0,
           1,
           2,
           3,
           4,
           6,
           9,
           10,
           11,
           12,
           13,
           14,
           15,
           16,
           17,
           19,
           20,
           22,
           23,
           25,
           26,
           28,
           29,
           31,
           46,
           33,
           35,
           37,
           38,
           40,
           42,
           41,
           44,
           45,
           46,
           5,
           43,
           39,
           39,
           39,
           40,
           41,
           41,
           44,
           44,
           44,
           45,
           45,
           45,
           45,
           45,
           45,
           45,
           45,
           32,
           42,
           42,
           36,
           46,
           5,
           43
          ],
          "target": [
           41,
           43,
           44,
           45,
           46,
           42,
           40,
           40,
           40,
           40,
           44,
           44,
           41,
           41,
           44,
           44,
           45,
           45,
           45,
           45,
           45,
           45,
           45,
           45,
           32,
           42,
           42,
           40,
           43,
           0,
           1,
           2,
           3,
           4,
           5,
           6,
           7,
           9,
           10,
           11,
           8,
           13,
           14,
           15,
           17,
           18,
           20,
           21,
           23,
           24,
           26,
           27,
           29,
           30,
           46,
           33,
           34,
           43,
           37,
           38,
           39
          ],
          "value": [
           1346377,
           80970,
           571410,
           1352772,
           1338303,
           71343,
           270310,
           16353,
           2557,
           550319,
           646723,
           160706,
           26965,
           5742,
           137220,
           62874,
           162061,
           3581,
           191866,
           1297,
           242701,
           578,
           126318,
           32628,
           2176,
           29996,
           10458,
           1040844,
           226116,
           1346377,
           80970,
           571410,
           1352772,
           1338303,
           297459,
           71343,
           20746,
           270310,
           16353,
           2557,
           534006,
           643047,
           164627,
           26965,
           137220,
           63772,
           162061,
           2697,
           191866,
           96,
           242701,
           3896,
           157722,
           16926,
           2176,
           10742,
           831,
           2880,
           1040844,
           226116,
           289220
          ]
         },
         "node": {
          "align": "center",
          "color": "blue",
          "label": [
           "PIB",
           "VPNdAyTC",
           "EBE / RMB",
           "RNB",
           "RdispNB",
           "Ahorro bruto",
           "Ahorro neto",
           "Cap./Nec. de financiación",
           "Importaciones ",
           "Form. bruta de capital fijo",
           "Var. de existencias",
           "Adq. menos cesiones de objetos valiosos",
           "Exportaciones",
           "Remun. de los asalariados",
           "Impuestos sobre la prod. y las imp.",
           "Subvenciones",
           "subvenciones rec. del RM",
           "Rentas de la propiedad",
           "Rentas de la propiedad pag. a RM",
           "Rentas de la propiedad rec. de RM",
           "Impuestos corrientes",
           "Impuestos corrientes pag. a RM",
           "Impuestos corrientes rec. de RM",
           "Cotiz. sociales netas",
           "Cotiz. sociales netas pag. a RM",
           "Cotiz. sociales netas rec. de RM",
           "Prest. sociales dist. de las transf. sociales en especie",
           "Prest. sociales dist. de las transf. sociales en especie pag. a RM",
           "Prest. sociales dist. de las transf. sociales en especie rec. de RM",
           "Otras transf. corrientes",
           "Otras transf. corrientes pag. a RM",
           "Otras transf. corrientes rec. de RM",
           "Ajuste por la var. de los derechos por pensiones",
           "Transferencias de capital",
           "Transferencias de capital pag. a RM",
           "Transferencias de capital rec. de RM",
           "Adq. menos cesiones de activos no prod.",
           "Gasto en consumo final",
           "Consumo de capital fijo",
           "Form. bruta de capital",
           "Cuenta de bienes y servicios",
           "Cuenta de explotación",
           "Cuenta de VPNdAyTC",
           "Cuenta de adq. de activos no financieros",
           "Cuenta de asign. de la renta primaria",
           "Cuenta de distr. secundaria de la renta",
           "Cuenta de utilización de la renta disponible",
           null,
           " ",
           " ",
           " ",
           " ",
           " ",
           " ",
           " ",
           " ",
           " ",
           " ",
           " ",
           " ",
           " ",
           " ",
           " ",
           " "
          ],
          "line": {
           "color": "black",
           "width": 0.5
          },
          "pad": 15,
          "thickness": 20
         },
         "type": "sankey"
        }
       ],
       "layout": {
        "font": {
         "size": 10
        },
        "height": 1000,
        "template": {
         "data": {
          "bar": [
           {
            "error_x": {
             "color": "#2a3f5f"
            },
            "error_y": {
             "color": "#2a3f5f"
            },
            "marker": {
             "line": {
              "color": "#E5ECF6",
              "width": 0.5
             },
             "pattern": {
              "fillmode": "overlay",
              "size": 10,
              "solidity": 0.2
             }
            },
            "type": "bar"
           }
          ],
          "barpolar": [
           {
            "marker": {
             "line": {
              "color": "#E5ECF6",
              "width": 0.5
             },
             "pattern": {
              "fillmode": "overlay",
              "size": 10,
              "solidity": 0.2
             }
            },
            "type": "barpolar"
           }
          ],
          "carpet": [
           {
            "aaxis": {
             "endlinecolor": "#2a3f5f",
             "gridcolor": "white",
             "linecolor": "white",
             "minorgridcolor": "white",
             "startlinecolor": "#2a3f5f"
            },
            "baxis": {
             "endlinecolor": "#2a3f5f",
             "gridcolor": "white",
             "linecolor": "white",
             "minorgridcolor": "white",
             "startlinecolor": "#2a3f5f"
            },
            "type": "carpet"
           }
          ],
          "choropleth": [
           {
            "colorbar": {
             "outlinewidth": 0,
             "ticks": ""
            },
            "type": "choropleth"
           }
          ],
          "contour": [
           {
            "colorbar": {
             "outlinewidth": 0,
             "ticks": ""
            },
            "colorscale": [
             [
              0,
              "#0d0887"
             ],
             [
              0.1111111111111111,
              "#46039f"
             ],
             [
              0.2222222222222222,
              "#7201a8"
             ],
             [
              0.3333333333333333,
              "#9c179e"
             ],
             [
              0.4444444444444444,
              "#bd3786"
             ],
             [
              0.5555555555555556,
              "#d8576b"
             ],
             [
              0.6666666666666666,
              "#ed7953"
             ],
             [
              0.7777777777777778,
              "#fb9f3a"
             ],
             [
              0.8888888888888888,
              "#fdca26"
             ],
             [
              1,
              "#f0f921"
             ]
            ],
            "type": "contour"
           }
          ],
          "contourcarpet": [
           {
            "colorbar": {
             "outlinewidth": 0,
             "ticks": ""
            },
            "type": "contourcarpet"
           }
          ],
          "heatmap": [
           {
            "colorbar": {
             "outlinewidth": 0,
             "ticks": ""
            },
            "colorscale": [
             [
              0,
              "#0d0887"
             ],
             [
              0.1111111111111111,
              "#46039f"
             ],
             [
              0.2222222222222222,
              "#7201a8"
             ],
             [
              0.3333333333333333,
              "#9c179e"
             ],
             [
              0.4444444444444444,
              "#bd3786"
             ],
             [
              0.5555555555555556,
              "#d8576b"
             ],
             [
              0.6666666666666666,
              "#ed7953"
             ],
             [
              0.7777777777777778,
              "#fb9f3a"
             ],
             [
              0.8888888888888888,
              "#fdca26"
             ],
             [
              1,
              "#f0f921"
             ]
            ],
            "type": "heatmap"
           }
          ],
          "heatmapgl": [
           {
            "colorbar": {
             "outlinewidth": 0,
             "ticks": ""
            },
            "colorscale": [
             [
              0,
              "#0d0887"
             ],
             [
              0.1111111111111111,
              "#46039f"
             ],
             [
              0.2222222222222222,
              "#7201a8"
             ],
             [
              0.3333333333333333,
              "#9c179e"
             ],
             [
              0.4444444444444444,
              "#bd3786"
             ],
             [
              0.5555555555555556,
              "#d8576b"
             ],
             [
              0.6666666666666666,
              "#ed7953"
             ],
             [
              0.7777777777777778,
              "#fb9f3a"
             ],
             [
              0.8888888888888888,
              "#fdca26"
             ],
             [
              1,
              "#f0f921"
             ]
            ],
            "type": "heatmapgl"
           }
          ],
          "histogram": [
           {
            "marker": {
             "pattern": {
              "fillmode": "overlay",
              "size": 10,
              "solidity": 0.2
             }
            },
            "type": "histogram"
           }
          ],
          "histogram2d": [
           {
            "colorbar": {
             "outlinewidth": 0,
             "ticks": ""
            },
            "colorscale": [
             [
              0,
              "#0d0887"
             ],
             [
              0.1111111111111111,
              "#46039f"
             ],
             [
              0.2222222222222222,
              "#7201a8"
             ],
             [
              0.3333333333333333,
              "#9c179e"
             ],
             [
              0.4444444444444444,
              "#bd3786"
             ],
             [
              0.5555555555555556,
              "#d8576b"
             ],
             [
              0.6666666666666666,
              "#ed7953"
             ],
             [
              0.7777777777777778,
              "#fb9f3a"
             ],
             [
              0.8888888888888888,
              "#fdca26"
             ],
             [
              1,
              "#f0f921"
             ]
            ],
            "type": "histogram2d"
           }
          ],
          "histogram2dcontour": [
           {
            "colorbar": {
             "outlinewidth": 0,
             "ticks": ""
            },
            "colorscale": [
             [
              0,
              "#0d0887"
             ],
             [
              0.1111111111111111,
              "#46039f"
             ],
             [
              0.2222222222222222,
              "#7201a8"
             ],
             [
              0.3333333333333333,
              "#9c179e"
             ],
             [
              0.4444444444444444,
              "#bd3786"
             ],
             [
              0.5555555555555556,
              "#d8576b"
             ],
             [
              0.6666666666666666,
              "#ed7953"
             ],
             [
              0.7777777777777778,
              "#fb9f3a"
             ],
             [
              0.8888888888888888,
              "#fdca26"
             ],
             [
              1,
              "#f0f921"
             ]
            ],
            "type": "histogram2dcontour"
           }
          ],
          "mesh3d": [
           {
            "colorbar": {
             "outlinewidth": 0,
             "ticks": ""
            },
            "type": "mesh3d"
           }
          ],
          "parcoords": [
           {
            "line": {
             "colorbar": {
              "outlinewidth": 0,
              "ticks": ""
             }
            },
            "type": "parcoords"
           }
          ],
          "pie": [
           {
            "automargin": true,
            "type": "pie"
           }
          ],
          "scatter": [
           {
            "fillpattern": {
             "fillmode": "overlay",
             "size": 10,
             "solidity": 0.2
            },
            "type": "scatter"
           }
          ],
          "scatter3d": [
           {
            "line": {
             "colorbar": {
              "outlinewidth": 0,
              "ticks": ""
             }
            },
            "marker": {
             "colorbar": {
              "outlinewidth": 0,
              "ticks": ""
             }
            },
            "type": "scatter3d"
           }
          ],
          "scattercarpet": [
           {
            "marker": {
             "colorbar": {
              "outlinewidth": 0,
              "ticks": ""
             }
            },
            "type": "scattercarpet"
           }
          ],
          "scattergeo": [
           {
            "marker": {
             "colorbar": {
              "outlinewidth": 0,
              "ticks": ""
             }
            },
            "type": "scattergeo"
           }
          ],
          "scattergl": [
           {
            "marker": {
             "colorbar": {
              "outlinewidth": 0,
              "ticks": ""
             }
            },
            "type": "scattergl"
           }
          ],
          "scattermapbox": [
           {
            "marker": {
             "colorbar": {
              "outlinewidth": 0,
              "ticks": ""
             }
            },
            "type": "scattermapbox"
           }
          ],
          "scatterpolar": [
           {
            "marker": {
             "colorbar": {
              "outlinewidth": 0,
              "ticks": ""
             }
            },
            "type": "scatterpolar"
           }
          ],
          "scatterpolargl": [
           {
            "marker": {
             "colorbar": {
              "outlinewidth": 0,
              "ticks": ""
             }
            },
            "type": "scatterpolargl"
           }
          ],
          "scatterternary": [
           {
            "marker": {
             "colorbar": {
              "outlinewidth": 0,
              "ticks": ""
             }
            },
            "type": "scatterternary"
           }
          ],
          "surface": [
           {
            "colorbar": {
             "outlinewidth": 0,
             "ticks": ""
            },
            "colorscale": [
             [
              0,
              "#0d0887"
             ],
             [
              0.1111111111111111,
              "#46039f"
             ],
             [
              0.2222222222222222,
              "#7201a8"
             ],
             [
              0.3333333333333333,
              "#9c179e"
             ],
             [
              0.4444444444444444,
              "#bd3786"
             ],
             [
              0.5555555555555556,
              "#d8576b"
             ],
             [
              0.6666666666666666,
              "#ed7953"
             ],
             [
              0.7777777777777778,
              "#fb9f3a"
             ],
             [
              0.8888888888888888,
              "#fdca26"
             ],
             [
              1,
              "#f0f921"
             ]
            ],
            "type": "surface"
           }
          ],
          "table": [
           {
            "cells": {
             "fill": {
              "color": "#EBF0F8"
             },
             "line": {
              "color": "white"
             }
            },
            "header": {
             "fill": {
              "color": "#C8D4E3"
             },
             "line": {
              "color": "white"
             }
            },
            "type": "table"
           }
          ]
         },
         "layout": {
          "annotationdefaults": {
           "arrowcolor": "#2a3f5f",
           "arrowhead": 0,
           "arrowwidth": 1
          },
          "autotypenumbers": "strict",
          "coloraxis": {
           "colorbar": {
            "outlinewidth": 0,
            "ticks": ""
           }
          },
          "colorscale": {
           "diverging": [
            [
             0,
             "#8e0152"
            ],
            [
             0.1,
             "#c51b7d"
            ],
            [
             0.2,
             "#de77ae"
            ],
            [
             0.3,
             "#f1b6da"
            ],
            [
             0.4,
             "#fde0ef"
            ],
            [
             0.5,
             "#f7f7f7"
            ],
            [
             0.6,
             "#e6f5d0"
            ],
            [
             0.7,
             "#b8e186"
            ],
            [
             0.8,
             "#7fbc41"
            ],
            [
             0.9,
             "#4d9221"
            ],
            [
             1,
             "#276419"
            ]
           ],
           "sequential": [
            [
             0,
             "#0d0887"
            ],
            [
             0.1111111111111111,
             "#46039f"
            ],
            [
             0.2222222222222222,
             "#7201a8"
            ],
            [
             0.3333333333333333,
             "#9c179e"
            ],
            [
             0.4444444444444444,
             "#bd3786"
            ],
            [
             0.5555555555555556,
             "#d8576b"
            ],
            [
             0.6666666666666666,
             "#ed7953"
            ],
            [
             0.7777777777777778,
             "#fb9f3a"
            ],
            [
             0.8888888888888888,
             "#fdca26"
            ],
            [
             1,
             "#f0f921"
            ]
           ],
           "sequentialminus": [
            [
             0,
             "#0d0887"
            ],
            [
             0.1111111111111111,
             "#46039f"
            ],
            [
             0.2222222222222222,
             "#7201a8"
            ],
            [
             0.3333333333333333,
             "#9c179e"
            ],
            [
             0.4444444444444444,
             "#bd3786"
            ],
            [
             0.5555555555555556,
             "#d8576b"
            ],
            [
             0.6666666666666666,
             "#ed7953"
            ],
            [
             0.7777777777777778,
             "#fb9f3a"
            ],
            [
             0.8888888888888888,
             "#fdca26"
            ],
            [
             1,
             "#f0f921"
            ]
           ]
          },
          "colorway": [
           "#636efa",
           "#EF553B",
           "#00cc96",
           "#ab63fa",
           "#FFA15A",
           "#19d3f3",
           "#FF6692",
           "#B6E880",
           "#FF97FF",
           "#FECB52"
          ],
          "font": {
           "color": "#2a3f5f"
          },
          "geo": {
           "bgcolor": "white",
           "lakecolor": "white",
           "landcolor": "#E5ECF6",
           "showlakes": true,
           "showland": true,
           "subunitcolor": "white"
          },
          "hoverlabel": {
           "align": "left"
          },
          "hovermode": "closest",
          "mapbox": {
           "style": "light"
          },
          "paper_bgcolor": "white",
          "plot_bgcolor": "#E5ECF6",
          "polar": {
           "angularaxis": {
            "gridcolor": "white",
            "linecolor": "white",
            "ticks": ""
           },
           "bgcolor": "#E5ECF6",
           "radialaxis": {
            "gridcolor": "white",
            "linecolor": "white",
            "ticks": ""
           }
          },
          "scene": {
           "xaxis": {
            "backgroundcolor": "#E5ECF6",
            "gridcolor": "white",
            "gridwidth": 2,
            "linecolor": "white",
            "showbackground": true,
            "ticks": "",
            "zerolinecolor": "white"
           },
           "yaxis": {
            "backgroundcolor": "#E5ECF6",
            "gridcolor": "white",
            "gridwidth": 2,
            "linecolor": "white",
            "showbackground": true,
            "ticks": "",
            "zerolinecolor": "white"
           },
           "zaxis": {
            "backgroundcolor": "#E5ECF6",
            "gridcolor": "white",
            "gridwidth": 2,
            "linecolor": "white",
            "showbackground": true,
            "ticks": "",
            "zerolinecolor": "white"
           }
          },
          "shapedefaults": {
           "line": {
            "color": "#2a3f5f"
           }
          },
          "ternary": {
           "aaxis": {
            "gridcolor": "white",
            "linecolor": "white",
            "ticks": ""
           },
           "baxis": {
            "gridcolor": "white",
            "linecolor": "white",
            "ticks": ""
           },
           "bgcolor": "#E5ECF6",
           "caxis": {
            "gridcolor": "white",
            "linecolor": "white",
            "ticks": ""
           }
          },
          "title": {
           "x": 0.05
          },
          "xaxis": {
           "automargin": true,
           "gridcolor": "white",
           "linecolor": "white",
           "ticks": "",
           "title": {
            "standoff": 15
           },
           "zerolinecolor": "white",
           "zerolinewidth": 2
          },
          "yaxis": {
           "automargin": true,
           "gridcolor": "white",
           "linecolor": "white",
           "ticks": "",
           "title": {
            "standoff": 15
           },
           "zerolinecolor": "white",
           "zerolinewidth": 2
          }
         }
        },
        "title": {
         "text": "Basic Sankey Diagram"
        },
        "width": 2000
       }
      }
     },
     "metadata": {},
     "output_type": "display_data"
    }
   ],
   "source": [
    "fig = go.Figure(data=[go.Sankey(\n",
    "    node = dict(\n",
    "      pad = 15,\n",
    "      thickness = 20,\n",
    "      line = dict(color = \"black\", width = 0.5),\n",
    "      label = nodes.new_names,\n",
    "      color = \"blue\",\n",
    "      align='center'\n",
    "    ),\n",
    "    link = link_dict)])\n",
    "fig.update_layout(title_text=\"Basic Sankey Diagram\", \n",
    "                  font_size=10,\n",
    "                  width=2000,\n",
    "                  height=1000)\n",
    "\n",
    "fig.show()"
   ]
  }
 ],
 "metadata": {
  "kernelspec": {
   "display_name": "Python 3",
   "language": "python",
   "name": "python3"
  },
  "language_info": {
   "codemirror_mode": {
    "name": "ipython",
    "version": 3
   },
   "file_extension": ".py",
   "mimetype": "text/x-python",
   "name": "python",
   "nbconvert_exporter": "python",
   "pygments_lexer": "ipython3",
   "version": "3.11.5"
  }
 },
 "nbformat": 4,
 "nbformat_minor": 2
}
